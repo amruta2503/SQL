{
 "cells": [
  {
   "cell_type": "code",
   "execution_count": 1,
   "id": "fcacc07c",
   "metadata": {},
   "outputs": [],
   "source": [
    "import mysql.connector as conn\n",
    "import pandas as pd\n",
    "import warnings\n",
    "warnings.filterwarnings('ignore')"
   ]
  },
  {
   "cell_type": "code",
   "execution_count": 2,
   "id": "5ff96ba8",
   "metadata": {},
   "outputs": [],
   "source": [
    "myconn = conn.connect(host=\"localhost\",user=\"root\",passwd=\"root1234\")"
   ]
  },
  {
   "cell_type": "code",
   "execution_count": 3,
   "id": "30405a5a",
   "metadata": {},
   "outputs": [
    {
     "data": {
      "text/plain": [
       "<mysql.connector.connection_cext.CMySQLConnection at 0x268aab398d0>"
      ]
     },
     "execution_count": 3,
     "metadata": {},
     "output_type": "execute_result"
    }
   ],
   "source": [
    "myconn"
   ]
  },
  {
   "cell_type": "code",
   "execution_count": 4,
   "id": "9acae649",
   "metadata": {},
   "outputs": [],
   "source": [
    "cursor = myconn.cursor()"
   ]
  },
  {
   "cell_type": "code",
   "execution_count": 5,
   "id": "97a4743a",
   "metadata": {},
   "outputs": [
    {
     "data": {
      "text/plain": [
       "<mysql.connector.cursor_cext.CMySQLCursor at 0x268ab1bbb90>"
      ]
     },
     "execution_count": 5,
     "metadata": {},
     "output_type": "execute_result"
    }
   ],
   "source": [
    "cursor"
   ]
  },
  {
   "cell_type": "code",
   "execution_count": 6,
   "id": "bb5a4952",
   "metadata": {},
   "outputs": [
    {
     "data": {
      "text/plain": [
       "[('assignment',),\n",
       " ('information_schema',),\n",
       " ('mysql',),\n",
       " ('performance_schema',),\n",
       " ('sakila',),\n",
       " ('student_result',),\n",
       " ('sys',),\n",
       " ('world',)]"
      ]
     },
     "execution_count": 6,
     "metadata": {},
     "output_type": "execute_result"
    }
   ],
   "source": [
    "result = cursor.execute(\"show databases\")\n",
    "cursor.fetchall()"
   ]
  },
  {
   "cell_type": "code",
   "execution_count": 7,
   "id": "badc4389",
   "metadata": {},
   "outputs": [],
   "source": [
    "query = \"use student_result\"\n",
    "cursor.execute(query)"
   ]
  },
  {
   "cell_type": "code",
   "execution_count": 8,
   "id": "20af736c",
   "metadata": {},
   "outputs": [],
   "source": [
    "#query = \"CREATE TABLE student_marks (roll_no int primary key, first_name varchar(30),last_name varchar(30),subject1 int,subject2 int ,subject3 int,subject4 int,sum_of_marks int,percentage int)\""
   ]
  },
  {
   "cell_type": "code",
   "execution_count": 9,
   "id": "5e76627e",
   "metadata": {},
   "outputs": [],
   "source": [
    "cursor.execute(query)"
   ]
  },
  {
   "cell_type": "code",
   "execution_count": 10,
   "id": "a2bc7eef",
   "metadata": {},
   "outputs": [
    {
     "data": {
      "text/plain": [
       "[('student_marks',)]"
      ]
     },
     "execution_count": 10,
     "metadata": {},
     "output_type": "execute_result"
    }
   ],
   "source": [
    "result = cursor.execute(\"show tables\")\n",
    "cursor.fetchall()"
   ]
  },
  {
   "cell_type": "code",
   "execution_count": 23,
   "id": "5184bdb8",
   "metadata": {},
   "outputs": [
    {
     "name": "stdout",
     "output_type": "stream",
     "text": [
      "Enter roll_no10\n",
      "Enter first nameDraco\n",
      "Enter last nameMalfoy\n",
      "Enter marks of subject 1: 55\n",
      "Enter marks of subject 2: 66\n",
      "Enter marks of subject 3: 77\n",
      "Enter marks of subject 4: 88\n",
      "286\n",
      "71.5\n"
     ]
    }
   ],
   "source": [
    "total_marks = 400\n",
    "passing_marks_per_subject = 35\n",
    "\n",
    "roll_no = int(input(\"Enter roll_no\"))\n",
    "first_name = input(\"Enter first name\")\n",
    "last_name = input(\"Enter last name\")\n",
    "subject1 = int(input(\"Enter marks of subject 1: \"))\n",
    "subject2 = int(input(\"Enter marks of subject 2: \"))\n",
    "subject3 = int(input(\"Enter marks of subject 3: \"))\n",
    "subject4 = int(input(\"Enter marks of subject 4: \"))\n",
    "\n",
    "sum_of_marks = subject1+subject2+subject3+subject4\n",
    "print(sum_of_marks)\n",
    "percentage = (sum_of_marks/total_marks)*100\n",
    "print(percentage)"
   ]
  },
  {
   "cell_type": "code",
   "execution_count": 24,
   "id": "159aecce",
   "metadata": {},
   "outputs": [],
   "source": [
    "cursor.execute(\" insert into student_marks(roll_no,first_name,last_name,subject1,subject2,subject3,subject4,sum_of_marks,percentage) values(%s,%s,%s,%s,%s,%s,%s,%s,%s)\",(roll_no,first_name,last_name,subject1,subject2,subject3,subject4,sum_of_marks,percentage))"
   ]
  },
  {
   "cell_type": "code",
   "execution_count": 25,
   "id": "9e5d231b",
   "metadata": {},
   "outputs": [
    {
     "data": {
      "text/html": [
       "<div>\n",
       "<style scoped>\n",
       "    .dataframe tbody tr th:only-of-type {\n",
       "        vertical-align: middle;\n",
       "    }\n",
       "\n",
       "    .dataframe tbody tr th {\n",
       "        vertical-align: top;\n",
       "    }\n",
       "\n",
       "    .dataframe thead th {\n",
       "        text-align: right;\n",
       "    }\n",
       "</style>\n",
       "<table border=\"1\" class=\"dataframe\">\n",
       "  <thead>\n",
       "    <tr style=\"text-align: right;\">\n",
       "      <th></th>\n",
       "      <th>roll_no</th>\n",
       "      <th>first_name</th>\n",
       "      <th>last_name</th>\n",
       "      <th>subject1</th>\n",
       "      <th>subject2</th>\n",
       "      <th>subject3</th>\n",
       "      <th>subject4</th>\n",
       "      <th>sum_of_marks</th>\n",
       "      <th>percentage</th>\n",
       "    </tr>\n",
       "  </thead>\n",
       "  <tbody>\n",
       "    <tr>\n",
       "      <th>0</th>\n",
       "      <td>1</td>\n",
       "      <td>Harry</td>\n",
       "      <td>Potter</td>\n",
       "      <td>66</td>\n",
       "      <td>66</td>\n",
       "      <td>66</td>\n",
       "      <td>66</td>\n",
       "      <td>264</td>\n",
       "      <td>66</td>\n",
       "    </tr>\n",
       "    <tr>\n",
       "      <th>1</th>\n",
       "      <td>2</td>\n",
       "      <td>Ron</td>\n",
       "      <td>Weasley</td>\n",
       "      <td>77</td>\n",
       "      <td>66</td>\n",
       "      <td>44</td>\n",
       "      <td>77</td>\n",
       "      <td>264</td>\n",
       "      <td>66</td>\n",
       "    </tr>\n",
       "    <tr>\n",
       "      <th>2</th>\n",
       "      <td>3</td>\n",
       "      <td>Hermione</td>\n",
       "      <td>Granger</td>\n",
       "      <td>99</td>\n",
       "      <td>99</td>\n",
       "      <td>99</td>\n",
       "      <td>99</td>\n",
       "      <td>396</td>\n",
       "      <td>99</td>\n",
       "    </tr>\n",
       "    <tr>\n",
       "      <th>3</th>\n",
       "      <td>4</td>\n",
       "      <td>Dean</td>\n",
       "      <td>Thomas</td>\n",
       "      <td>77</td>\n",
       "      <td>77</td>\n",
       "      <td>66</td>\n",
       "      <td>77</td>\n",
       "      <td>297</td>\n",
       "      <td>74</td>\n",
       "    </tr>\n",
       "    <tr>\n",
       "      <th>4</th>\n",
       "      <td>5</td>\n",
       "      <td>neville</td>\n",
       "      <td>longbottom</td>\n",
       "      <td>44</td>\n",
       "      <td>44</td>\n",
       "      <td>66</td>\n",
       "      <td>44</td>\n",
       "      <td>198</td>\n",
       "      <td>50</td>\n",
       "    </tr>\n",
       "    <tr>\n",
       "      <th>5</th>\n",
       "      <td>6</td>\n",
       "      <td>alicia</td>\n",
       "      <td>schmidt</td>\n",
       "      <td>32</td>\n",
       "      <td>55</td>\n",
       "      <td>66</td>\n",
       "      <td>44</td>\n",
       "      <td>197</td>\n",
       "      <td>49</td>\n",
       "    </tr>\n",
       "    <tr>\n",
       "      <th>6</th>\n",
       "      <td>7</td>\n",
       "      <td>parvati</td>\n",
       "      <td>patil</td>\n",
       "      <td>88</td>\n",
       "      <td>66</td>\n",
       "      <td>55</td>\n",
       "      <td>22</td>\n",
       "      <td>231</td>\n",
       "      <td>58</td>\n",
       "    </tr>\n",
       "    <tr>\n",
       "      <th>7</th>\n",
       "      <td>8</td>\n",
       "      <td>percy</td>\n",
       "      <td>weasley</td>\n",
       "      <td>22</td>\n",
       "      <td>55</td>\n",
       "      <td>66</td>\n",
       "      <td>44</td>\n",
       "      <td>187</td>\n",
       "      <td>47</td>\n",
       "    </tr>\n",
       "    <tr>\n",
       "      <th>8</th>\n",
       "      <td>9</td>\n",
       "      <td>filch</td>\n",
       "      <td>nanw</td>\n",
       "      <td>22</td>\n",
       "      <td>33</td>\n",
       "      <td>11</td>\n",
       "      <td>22</td>\n",
       "      <td>88</td>\n",
       "      <td>22</td>\n",
       "    </tr>\n",
       "    <tr>\n",
       "      <th>9</th>\n",
       "      <td>10</td>\n",
       "      <td>Draco</td>\n",
       "      <td>Malfoy</td>\n",
       "      <td>55</td>\n",
       "      <td>66</td>\n",
       "      <td>77</td>\n",
       "      <td>88</td>\n",
       "      <td>286</td>\n",
       "      <td>72</td>\n",
       "    </tr>\n",
       "  </tbody>\n",
       "</table>\n",
       "</div>"
      ],
      "text/plain": [
       "   roll_no first_name   last_name  subject1  subject2  subject3  subject4  \\\n",
       "0        1      Harry      Potter        66        66        66        66   \n",
       "1        2        Ron     Weasley        77        66        44        77   \n",
       "2        3   Hermione     Granger        99        99        99        99   \n",
       "3        4       Dean      Thomas        77        77        66        77   \n",
       "4        5    neville  longbottom        44        44        66        44   \n",
       "5        6     alicia     schmidt        32        55        66        44   \n",
       "6        7    parvati       patil        88        66        55        22   \n",
       "7        8      percy     weasley        22        55        66        44   \n",
       "8        9      filch        nanw        22        33        11        22   \n",
       "9       10      Draco      Malfoy        55        66        77        88   \n",
       "\n",
       "   sum_of_marks  percentage  \n",
       "0           264          66  \n",
       "1           264          66  \n",
       "2           396          99  \n",
       "3           297          74  \n",
       "4           198          50  \n",
       "5           197          49  \n",
       "6           231          58  \n",
       "7           187          47  \n",
       "8            88          22  \n",
       "9           286          72  "
      ]
     },
     "execution_count": 25,
     "metadata": {},
     "output_type": "execute_result"
    }
   ],
   "source": [
    "query =\"\"\"\n",
    "select * \n",
    "from student_marks\n",
    "\"\"\"\n",
    "data = pd.read_sql_query(query,myconn)\n",
    "data"
   ]
  },
  {
   "cell_type": "code",
   "execution_count": 26,
   "id": "e53f3241",
   "metadata": {},
   "outputs": [],
   "source": [
    "myconn.commit()"
   ]
  },
  {
   "cell_type": "code",
   "execution_count": null,
   "id": "77d22ead",
   "metadata": {},
   "outputs": [],
   "source": []
  },
  {
   "cell_type": "code",
   "execution_count": null,
   "id": "25b0e2d7",
   "metadata": {},
   "outputs": [],
   "source": []
  }
 ],
 "metadata": {
  "kernelspec": {
   "display_name": "Python 3 (ipykernel)",
   "language": "python",
   "name": "python3"
  },
  "language_info": {
   "codemirror_mode": {
    "name": "ipython",
    "version": 3
   },
   "file_extension": ".py",
   "mimetype": "text/x-python",
   "name": "python",
   "nbconvert_exporter": "python",
   "pygments_lexer": "ipython3",
   "version": "3.11.5"
  }
 },
 "nbformat": 4,
 "nbformat_minor": 5
}
